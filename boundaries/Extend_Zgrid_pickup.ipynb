{
 "cells": [
  {
   "cell_type": "markdown",
   "metadata": {},
   "source": [
    "# Extend The 44 vertical levels to 46"
   ]
  },
  {
   "cell_type": "code",
   "execution_count": 1,
   "metadata": {},
   "outputs": [],
   "source": [
    "import os\n",
    "import numpy as np\n",
    "import xarray as xr\n",
    "from struct import *\n",
    "from MITgcmutils import mds"
   ]
  },
  {
   "cell_type": "markdown",
   "metadata": {},
   "source": [
    "## I. Functions"
   ]
  },
  {
   "cell_type": "markdown",
   "metadata": {},
   "source": [
    "## II. Set paths"
   ]
  },
  {
   "cell_type": "code",
   "execution_count": 2,
   "metadata": {},
   "outputs": [
    {
     "name": "stdout",
     "output_type": "stream",
     "text": [
      "Reading data on Itsasorantz\n"
     ]
    }
   ],
   "source": [
    "# Set parameters\n",
    "HDlist = os.listdir('/Volumes') \n",
    "HDsel = np.nan\n",
    "HD = [\"Proteus\",\"Itsasorantz\"]\n",
    "# HD Selection\n",
    "while not (HDsel==1 or HDsel==2):\n",
    "    # While loop Intilization\n",
    "    if not np.isnan(HDsel):\n",
    "        print(\"Wrong choice ! Type 1 or 2\")\n",
    "    # Test Both HD pluged in case    \n",
    "    if HD[0] in HDlist and HD[1] in HDlist:\n",
    "        HDsel = int(input(\"Do you want to read data on (1) Proteus or (2) Itsasorantz ?\"))\n",
    "    # Selection for 1 HD pluged in\n",
    "    elif HD[0] in HDlist:\n",
    "        HDsel = 1\n",
    "    elif HD[1] in HDlist:\n",
    "        HDsel = 2\n",
    "print(f\"Reading data on {HD[HDsel-1]}\")"
   ]
  },
  {
   "cell_type": "code",
   "execution_count": 3,
   "metadata": {},
   "outputs": [],
   "source": [
    "HDpath = f\"/Volumes/{HD[HDsel-1]}/\"\n",
    "In_pth = HDpath+\"Modelling/Forcing/run_template/Mac270_Carroll/32_Tracers_Nr44/\"\n",
    "Out_pth = HDpath+\"Modelling/Forcing/run_template/Mac270_Carroll/32_Tracers_Nr46/\"\n",
    "grid_pth = HDpath+\"Modelling/Forcing/grids/mac270/G46x68x44/\""
   ]
  },
  {
   "cell_type": "code",
   "execution_count": 4,
   "metadata": {},
   "outputs": [],
   "source": [
    "itr = 420768"
   ]
  },
  {
   "cell_type": "markdown",
   "metadata": {},
   "source": [
    "## III. Add 2 top layers"
   ]
  },
  {
   "cell_type": "markdown",
   "metadata": {},
   "source": [
    "### a. Read files"
   ]
  },
  {
   "cell_type": "code",
   "execution_count": 5,
   "metadata": {},
   "outputs": [],
   "source": [
    "darwin, _, darwin_meta = mds.rdmds(In_pth+'pickup_darwin', itrs=itr, returnmeta=True)\n",
    "ggl90, _, ggl90_meta = mds.rdmds(In_pth+'pickup_ggl90', itrs=itr, returnmeta=True)\n",
    "ptracers, _, ptracers_meta = mds.rdmds(In_pth+'pickup_ptracers', itrs=itr, returnmeta=True)\n",
    "pickup, _, pickup_meta = mds.rdmds(In_pth+'pickup', itrs=itr, returnmeta=True)\n",
    "# >> Note for following files:\n",
    "#    copy pickup_darwin meta file and rename with the name of the file\n",
    "#smooth3D, _, smooth3D_meta = mds.rdmds(In_pth+'smooth3DscalesH001', itrs=1, returnmeta=True)\n",
    "##    for following files change dataprec = float64 by float32\n",
    "#smooth, _, smooth_meta = mds.rdmds(In_pth+'smooth3Dnorm001', itrs=1, returnmeta=True)\n",
    "#xx_diffkr, _, xx_diffkr_meta = mds.rdmds(In_pth+'xx_diffkr', itrs=42, returnmeta=True)\n",
    "#xx_kapgm, _, xx_kapgm_meta = mds.rdmds(In_pth+'xx_kapgm', itrs=42, returnmeta=True)\n",
    "#xx_kapredi, _, xx_kapredi_meta = mds.rdmds(In_pth+'xx_kapredi', itrs=42, returnmeta=True)\n",
    "#wdiffkrFld, _, wdiffkrFld_meta = mds.rdmds(In_pth+'wdiffkrFld_46x68_Mac', itrs=1, returnmeta=True)\n",
    "#wkapgmFld, _, wkapgmFld_meta = mds.rdmds(In_pth+'wkapgmFld_46x68_Mac', itrs=1, returnmeta=True)\n",
    "#wkaprediFld, _, wkaprediFld_meta = mds.rdmds(In_pth+'wkaprediFld_46x68_Mac', itrs=1, returnmeta=True)"
   ]
  },
  {
   "cell_type": "markdown",
   "metadata": {},
   "source": [
    "### b. Duplicate top layer 2 times"
   ]
  },
  {
   "cell_type": "code",
   "execution_count": 6,
   "metadata": {},
   "outputs": [],
   "source": [
    "# Create parameter to repeat first layer\n",
    "r = np.ones(44)\n",
    "r[0] = 3"
   ]
  },
  {
   "cell_type": "code",
   "execution_count": 7,
   "metadata": {},
   "outputs": [],
   "source": [
    "## Add layer\n",
    "darwin_ext = np.repeat(darwin, list(r), axis=0)\n",
    "ggl90_ext = np.repeat(ggl90, list(r), axis=0)\n",
    "ptracers_ext = np.repeat(ptracers, list(r), axis=1)\n",
    "#smooth_ext = np.repeat(smooth, list(r), axis=0)\n",
    "#smooth3D_ext = np.repeat(smooth3D, list(r), axis=0)\n",
    "#xx_diffkr_ext = np.repeat(xx_diffkr, list(r), axis=0)\n",
    "#xx_kapgm_ext = np.repeat(xx_kapgm, list(r), axis=0)\n",
    "#xx_kapredi_ext = np.repeat(xx_kapredi, list(r), axis=0)\n",
    "#wdiffkrFld_ext = np.repeat(wdiffkrFld, list(r), axis=0)\n",
    "#wkapgmFld_ext = np.repeat(wkapgmFld, list(r), axis=0)\n",
    "#wkaprediFld_ext = np.repeat(wkaprediFld, list(r), axis=0)"
   ]
  },
  {
   "cell_type": "code",
   "execution_count": 8,
   "metadata": {},
   "outputs": [],
   "source": [
    "## Add layer specifically for pickup\n",
    "pickup_ls = []\n",
    "for i in range(8):\n",
    "    pickup_ls.append(np.repeat(pickup[44*i:44*(i+1)], list(r), axis=0))\n",
    "pickup_ext = np.concatenate(pickup_ls, axis=0)\n",
    "pickup_ext = np.concatenate((pickup_ext,pickup[352:]),axis=0)"
   ]
  },
  {
   "cell_type": "markdown",
   "metadata": {},
   "source": [
    "### c. Create additional smooth files"
   ]
  },
  {
   "cell_type": "code",
   "execution_count": 9,
   "metadata": {},
   "outputs": [],
   "source": [
    "## Array sizes\n",
    "nZ = 46\n",
    "nX = 68\n",
    "nY = 46\n",
    "## cte\n",
    "fac=3\n",
    "facZ=2"
   ]
  },
  {
   "cell_type": "code",
   "execution_count": 10,
   "metadata": {},
   "outputs": [],
   "source": [
    "#dzi = mds.rdmds(grid_pth+'DRC')\n",
    "## Modify dz\n",
    "#dz0 = np.ones((4,1,1))\n",
    "#dz0[0] = 1.5; dz0[1] = 3\n",
    "#dz0[2] = 3.5; dz0[3] = 7\n",
    "#dz = np.concatenate((dz0,dzi[2:-1]))\n",
    "#dz = np.repeat(np.repeat(dz, nX, axis=1),nY,axis=2)\n",
    "## Create smooth3DscalesZ001 matrix\n",
    "#dz1 = dz*facZ"
   ]
  },
  {
   "cell_type": "markdown",
   "metadata": {},
   "source": [
    "### d. Save files"
   ]
  },
  {
   "cell_type": "code",
   "execution_count": 11,
   "metadata": {},
   "outputs": [],
   "source": [
    "def bin_save(fnm, array):\n",
    "    newFile = open(fnm, \"wb\")\n",
    "    bitearray = pack(\">%sf\" % len(array.flatten()),*array.flatten())\n",
    "    newFile.write(bitearray);"
   ]
  },
  {
   "cell_type": "code",
   "execution_count": 12,
   "metadata": {},
   "outputs": [
    {
     "name": "stdout",
     "output_type": "stream",
     "text": [
      "Do you want to save the New Pickup file created ? ('y' or 'n')\n",
      "y\n",
      "proceed\n"
     ]
    }
   ],
   "source": [
    "svc = input(\"Do you want to save the New Pickup file created ? ('y' or 'n')\\n\")\n",
    "if svc == 'y':\n",
    "    # darwin\n",
    "    mds.wrmds(Out_pth+'pickup_darwin', darwin_ext, itr=itr, dataprec='float64', ndims=darwin_meta['ndims'][0],\n",
    "              nrecords=darwin_meta['nrecords'][0], fields=darwin_meta['fldlist'], dimlist=[46, 68, 46])\n",
    "    # ggl90\n",
    "    mds.wrmds(Out_pth+'pickup_ggl90', ggl90_ext, itr=itr, dataprec='float64', ndims=ggl90_meta['ndims'][0], \n",
    "              nrecords=ggl90_meta['nrecords'][0], dimlist=[46, 68, 46])\n",
    "    # ptracers\n",
    "    mds.wrmds(Out_pth+'pickup_ptracers', ptracers_ext, itr=itr, dataprec='float64', ndims=ptracers_meta['ndims'][0],\n",
    "              nrecords=ptracers_meta['nrecords'][0], fields=ptracers_meta['fldlist'], deltat=1200,\n",
    "              dimlist=[46, 68, 46])\n",
    "    # pickup\n",
    "    mds.wrmds(Out_pth+'pickup', pickup_ext, itr=itr, dataprec='float64', ndims=pickup_meta['ndims'][0],\n",
    "              nrecords=371, fields=pickup_meta['fldlist'], dimlist=[46, 68])\n",
    "#    # smooth\n",
    "#    mds.wrmds(Out_pth+'smooth3Dnorm001', smooth_ext, itr=smooth_meta['timestepnumber'][0], dataprec='float32', \n",
    "#              ndims=smooth_meta['ndims'][0], nrecords=1,dimlist=[46, 68, 46])\n",
    "#    # smooth3DH\n",
    "#    mds.wrmds(Out_pth+'smooth3DscalesH001', smooth3D_ext, itr=smooth3D_meta['timestepnumber'][0], \n",
    "#              dataprec='float64', ndims=smooth3D_meta['ndims'][0], nrecords=1,dimlist=[46, 68, 46])\n",
    "#    # smooth3DZ\n",
    "#    bin_save(Out_pth+'smooth3DscalesZ001.data', dz1)\n",
    "#    # xx_diffkr\n",
    "#    mds.wrmds(Out_pth+'xx_diffkr', xx_diffkr_ext, itr=42, dataprec='float32', ndims=xx_diffkr_meta['ndims'][0],\n",
    "#              nrecords=xx_diffkr_meta['nrecords'][0], dimlist=[46, 68, 46])\n",
    "#    # xx_kapgm\n",
    "#    mds.wrmds(Out_pth+'xx_kapgm', xx_kapgm_ext, itr=42, dataprec='float32', ndims=xx_kapgm_meta['ndims'][0],\n",
    "#              nrecords=xx_kapgm_meta['nrecords'][0], dimlist=[46, 68, 46])\n",
    "#    # xx_kapredi\n",
    "#    mds.wrmds(Out_pth+'xx_kapredi', xx_kapredi_ext, itr=42, dataprec='float32', ndims=xx_kapredi_meta['ndims'][0],\n",
    "#              nrecords=xx_kapredi_meta['nrecords'][0], dimlist=[46, 68, 46])\n",
    "#    # wdiffkrFld\n",
    "#    mds.wrmds(Out_pth+'wdiffkrFld_46x68_Mac', wdiffkrFld_ext, itr=1, dataprec='float32', ndims=wdiffkrFld_meta['ndims'][0],\n",
    "#              nrecords=wdiffkrFld_meta['nrecords'][0], dimlist=[46, 68, 46])\n",
    "#    # wkapgmFld\n",
    "#    mds.wrmds(Out_pth+'wkapgmFld_46x68_Mac', wkapgmFld_ext, itr=1, dataprec='float32', ndims=wkapgmFld_meta['ndims'][0],\n",
    "#              nrecords=wkapgmFld_meta['nrecords'][0], dimlist=[46, 68, 46])\n",
    "#    # wkaprediFld\n",
    "#    mds.wrmds(Out_pth+'wkaprediFld_46x68_Mac', wkaprediFld_ext, itr=1, dataprec='float32', ndims=wkaprediFld_meta['ndims'][0],\n",
    "#              nrecords=wkaprediFld_meta['nrecords'][0], dimlist=[46, 68, 46])\n",
    "    \n",
    "    print(\"proceed\")\n",
    "elif svc == 'n':\n",
    "    print(\"Warning: files not saved\")"
   ]
  },
  {
   "cell_type": "code",
   "execution_count": null,
   "metadata": {},
   "outputs": [],
   "source": []
  }
 ],
 "metadata": {
  "kernelspec": {
   "display_name": "Python 3 (ipykernel)",
   "language": "python",
   "name": "python3"
  },
  "language_info": {
   "codemirror_mode": {
    "name": "ipython",
    "version": 3
   },
   "file_extension": ".py",
   "mimetype": "text/x-python",
   "name": "python",
   "nbconvert_exporter": "python",
   "pygments_lexer": "ipython3",
   "version": "3.11.5"
  }
 },
 "nbformat": 4,
 "nbformat_minor": 4
}
