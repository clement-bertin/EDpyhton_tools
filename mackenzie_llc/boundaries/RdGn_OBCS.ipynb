{
 "cells": [
  {
   "cell_type": "markdown",
   "metadata": {},
   "source": [
    "# Genearate Arctic Ocean Ecosystem boundaries conditions"
   ]
  },
  {
   "cell_type": "code",
   "execution_count": 1,
   "metadata": {},
   "outputs": [],
   "source": [
    "import os\n",
    "import sys\n",
    "import numpy as np\n",
    "from struct import *"
   ]
  },
  {
   "cell_type": "markdown",
   "metadata": {},
   "source": [
    "### Functions"
   ]
  },
  {
   "cell_type": "code",
   "execution_count": 2,
   "metadata": {},
   "outputs": [],
   "source": [
    "# dim = (nt,nZ,nX)\n",
    "def read_bin(fname, dim):\n",
    "    with open(fname, 'rb') as fid:\n",
    "        tmp = np.fromfile(fid, '>f4')\n",
    "    # Create a data array\n",
    "    fld = tmp.reshape(dim) \n",
    "    return(fld)"
   ]
  },
  {
   "cell_type": "code",
   "execution_count": 3,
   "metadata": {},
   "outputs": [],
   "source": [
    "def bin_save(fnm, array):\n",
    "    newFile = open(fnm, \"wb\")\n",
    "    bitearray = pack(\">%sf\" % len(array.flatten()),*array.flatten())\n",
    "    newFile.write(bitearray);"
   ]
  },
  {
   "cell_type": "markdown",
   "metadata": {},
   "source": [
    "### I. Set the reading and writing path"
   ]
  },
  {
   "cell_type": "code",
   "execution_count": 4,
   "metadata": {
    "scrolled": true
   },
   "outputs": [
    {
     "name": "stdout",
     "output_type": "stream",
     "text": [
      "Reading data on Itsasorantz\n"
     ]
    }
   ],
   "source": [
    "# Set parameters\n",
    "HDlist = os.listdir('/Volumes') \n",
    "HDsel = np.nan\n",
    "HD = [\"Proteus\",\"Itsasorantz\"]\n",
    "# HD Selection\n",
    "while not (HDsel==1 or HDsel==2):\n",
    "    # While loop Intilization\n",
    "    if not np.isnan(HDsel):\n",
    "        print(\"Wrong choice ! Type 1 or 2\")\n",
    "    # Test Both HD pluged in case    \n",
    "    if HD[0] in HDlist and HD[1] in HDlist:\n",
    "        HDsel = int(input(\"Do you want to read data on (1) Proteus or (2) Itsasorantz ?\"))\n",
    "    # Selection for 1 HD pluged in\n",
    "    elif HD[0] in HDlist:\n",
    "        HDsel = 1\n",
    "    elif HD[1] in HDlist:\n",
    "        HDsel = 2\n",
    "print(f\"Reading data on {HD[HDsel-1]}\")"
   ]
  },
  {
   "cell_type": "code",
   "execution_count": 5,
   "metadata": {},
   "outputs": [],
   "source": [
    "HDpath = f\"/Volumes/{HD[HDsel-1]}/\"\n",
    "In_pth = HDpath+\"Modelling/Forcing/run_template/Mac270_Carroll/32_Tracers_Nr46/\"\n",
    "Out_pth = HDpath+\"Modelling/Forcing/run_template/Mac270_Carroll/33_Tracers_Nr46/\""
   ]
  },
  {
   "cell_type": "markdown",
   "metadata": {},
   "source": [
    "## II. Read original Open Boudaries files"
   ]
  },
  {
   "cell_type": "markdown",
   "metadata": {},
   "source": [
    "### a. Set parameters"
   ]
  },
  {
   "cell_type": "markdown",
   "metadata": {},
   "source": [
    "###### grid dimensions"
   ]
  },
  {
   "cell_type": "code",
   "execution_count": 6,
   "metadata": {},
   "outputs": [],
   "source": [
    "## Time\n",
    "nt = 12*29+1\n",
    "## Depth\n",
    "nZ = 46\n",
    "## Width\n",
    "nXw = 68\n",
    "nXs = 46"
   ]
  },
  {
   "cell_type": "markdown",
   "metadata": {},
   "source": [
    "###### Tracers list"
   ]
  },
  {
   "cell_type": "code",
   "execution_count": 7,
   "metadata": {},
   "outputs": [],
   "source": [
    "# Initial Tracers list\n",
    "InitTr_ls = ['DIC','NO3','NO2','NH4','PO4','Fet','SiO2','DOC','rDOC','DON','DOP','DOFe','POC','PON','POP','POFe',\n",
    "             'POSi','PIC','ALK','O2','c1','c2','c3','c4','c5','c6','c7','chl1','chl2','chl3','chl4','chl5']\n",
    "# Final Tracers list\n",
    "FinaTr_ls = ['DIC','NO3','NO2','NH4','PO4','Fet','SiO2','DOC','rDOC','DON','DOP','DOFe','POC','PON','POP','POFe',\n",
    "             'POSi','PIC','ALK','O2','CDOM','c1','c2','c3','c4','c5','c6','c7','chl1','chl2','chl3','chl4','chl5']"
   ]
  },
  {
   "cell_type": "markdown",
   "metadata": {},
   "source": [
    "### b. Read data"
   ]
  },
  {
   "cell_type": "markdown",
   "metadata": {},
   "source": [
    "###### Western Boundary"
   ]
  },
  {
   "cell_type": "code",
   "execution_count": 8,
   "metadata": {},
   "outputs": [],
   "source": [
    "Init_OBW = []\n",
    "for i in range(1,len(InitTr_ls)+1):\n",
    "        Init_OBW.append(read_bin(In_pth+f\"OBWtr{i}_Mac_46x68.bin\", (nt,nZ,nXw)))"
   ]
  },
  {
   "cell_type": "markdown",
   "metadata": {},
   "source": [
    "###### Southern Boundary"
   ]
  },
  {
   "cell_type": "code",
   "execution_count": 9,
   "metadata": {},
   "outputs": [],
   "source": [
    "Init_OBS = []\n",
    "for i in range(1,len(InitTr_ls)+1):\n",
    "        Init_OBS.append(read_bin(In_pth+f\"OBStr{i}_Mac_46x68.bin\", (nt,nZ,nXs)))"
   ]
  },
  {
   "cell_type": "markdown",
   "metadata": {},
   "source": [
    "## III. Create New tracers matrixes"
   ]
  },
  {
   "cell_type": "code",
   "execution_count": 10,
   "metadata": {},
   "outputs": [],
   "source": [
    "Fina_OBW = Init_OBW.copy()\n",
    "Fina_OBS = Init_OBS.copy()"
   ]
  },
  {
   "cell_type": "markdown",
   "metadata": {},
   "source": [
    "### a. tDOC (tDOC backgroud is set constant to 50 $mmolC.m^{-3}$ whole water column)"
   ]
  },
  {
   "cell_type": "markdown",
   "metadata": {},
   "source": [
    "###### Western Boundary"
   ]
  },
  {
   "cell_type": "code",
   "execution_count": 11,
   "metadata": {},
   "outputs": [],
   "source": [
    "## Create the tDOC matrix\n",
    "#tDOCw = np.ones((nt,nZ,nXw))*50\n",
    "#tDOCw[Init_OBW[0]==0] = 0\n",
    "## Add it into the new list\n",
    "#Fina_OBW.insert(FinaTr_ls.index('tDOC'),tDOCw)"
   ]
  },
  {
   "cell_type": "markdown",
   "metadata": {},
   "source": [
    "###### Eastern Boundary"
   ]
  },
  {
   "cell_type": "code",
   "execution_count": 12,
   "metadata": {},
   "outputs": [],
   "source": [
    "## Create the tDOC matrix\n",
    "#tDOCs = np.ones((nt,nZ,nXs))*50\n",
    "#tDOCs[Init_OBS[0]==0] = 0\n",
    "## Add it into the new list\n",
    "#Fina_OBS.insert(FinaTr_ls.index('tDOC'),tDOCs)"
   ]
  },
  {
   "cell_type": "markdown",
   "metadata": {},
   "source": [
    "### b. Disable specific plantkon types + Chl-a asociated"
   ]
  },
  {
   "cell_type": "markdown",
   "metadata": {},
   "source": [
    "Create a list with tracers to disable"
   ]
  },
  {
   "cell_type": "code",
   "execution_count": 13,
   "metadata": {},
   "outputs": [],
   "source": [
    "#TrcDis_ls = np.array([23,24,25,30,31,32])"
   ]
  },
  {
   "cell_type": "markdown",
   "metadata": {},
   "source": [
    "Set 0 fields"
   ]
  },
  {
   "cell_type": "code",
   "execution_count": 14,
   "metadata": {},
   "outputs": [],
   "source": [
    "#zero_fieldS = np.zeros(Fina_OBS[0].shape)\n",
    "#zero_fieldW = np.zeros(Fina_OBW[0].shape)"
   ]
  },
  {
   "cell_type": "code",
   "execution_count": 15,
   "metadata": {},
   "outputs": [],
   "source": [
    "#for i in TrcDis_ls-1:\n",
    "#    # Southern boundary\n",
    "#    Fina_OBS[i] = zero_fieldS\n",
    "#    # Western boundary\n",
    "#    Fina_OBW[i] = zero_fieldW"
   ]
  },
  {
   "cell_type": "markdown",
   "metadata": {},
   "source": [
    "### c. Add CDOM (Set with DOC bondary field)  "
   ]
  },
  {
   "cell_type": "code",
   "execution_count": 16,
   "metadata": {},
   "outputs": [],
   "source": [
    "# Add CDOM matrix Western boundary\n",
    "Fina_OBW = np.insert(Fina_OBW, FinaTr_ls.index('CDOM'), 0.05*Init_OBW[InitTr_ls.index('DOC')], axis=0)\n",
    "# Add CDOM matrix Western boundary\n",
    "Fina_OBS = np.insert(Fina_OBS, FinaTr_ls.index('CDOM'), 0.05*Init_OBS[InitTr_ls.index('DOC')], axis=0)"
   ]
  },
  {
   "cell_type": "markdown",
   "metadata": {},
   "source": [
    "## IV. Save the OBC files"
   ]
  },
  {
   "cell_type": "code",
   "execution_count": 17,
   "metadata": {},
   "outputs": [
    {
     "name": "stdout",
     "output_type": "stream",
     "text": [
      "Do you want to save the New Open Boundary files created ? ('y' or 'n')\n",
      "y\n",
      "Saving procedure allowed\n"
     ]
    }
   ],
   "source": [
    "svc = input(\"Do you want to save the New Open Boundary files created ? ('y' or 'n')\\n\")\n",
    "if svc == 'y':\n",
    "    print(\"Saving procedure allowed\")\n",
    "elif svc == 'n':\n",
    "    print(\"Warning: files will not be saved\")"
   ]
  },
  {
   "cell_type": "code",
   "execution_count": 18,
   "metadata": {},
   "outputs": [],
   "source": [
    "if svc == 'y':\n",
    "    for i in range(len(FinaTr_ls)):\n",
    "        bin_save(Out_pth+f\"OBWtr{i+1}_Mac_46x68.bin\", Fina_OBW[i])\n",
    "        bin_save(Out_pth+f\"OBStr{i+1}_Mac_46x68.bin\", Fina_OBS[i])"
   ]
  },
  {
   "cell_type": "code",
   "execution_count": null,
   "metadata": {},
   "outputs": [],
   "source": []
  }
 ],
 "metadata": {
  "kernelspec": {
   "display_name": "Python 3 (ipykernel)",
   "language": "python",
   "name": "python3"
  },
  "language_info": {
   "codemirror_mode": {
    "name": "ipython",
    "version": 3
   },
   "file_extension": ".py",
   "mimetype": "text/x-python",
   "name": "python",
   "nbconvert_exporter": "python",
   "pygments_lexer": "ipython3",
   "version": "3.11.5"
  }
 },
 "nbformat": 4,
 "nbformat_minor": 4
}
