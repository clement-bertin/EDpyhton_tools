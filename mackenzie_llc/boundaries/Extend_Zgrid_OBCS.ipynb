{
 "cells": [
  {
   "cell_type": "markdown",
   "metadata": {},
   "source": [
    "# Extend vertical grid from 44 to 46 levels"
   ]
  },
  {
   "cell_type": "code",
   "execution_count": 1,
   "metadata": {},
   "outputs": [],
   "source": [
    "import os\n",
    "import sys\n",
    "import numpy as np\n",
    "from struct import *"
   ]
  },
  {
   "cell_type": "markdown",
   "metadata": {},
   "source": [
    "## I. Functions"
   ]
  },
  {
   "cell_type": "code",
   "execution_count": 2,
   "metadata": {},
   "outputs": [],
   "source": [
    "# dim = (nt,nZ,nX)\n",
    "def read_bin(fname, dim):\n",
    "    with open(fname, 'rb') as fid:\n",
    "        tmp = np.fromfile(fid, '>f4')\n",
    "    # Create a data array\n",
    "    fld = tmp.reshape(dim) \n",
    "    return(fld)"
   ]
  },
  {
   "cell_type": "code",
   "execution_count": 3,
   "metadata": {},
   "outputs": [],
   "source": [
    "def bin_save(fnm, array):\n",
    "    newFile = open(fnm, \"wb\")\n",
    "    bitearray = pack(\">%sf\" % len(array.flatten()),*array.flatten())\n",
    "    newFile.write(bitearray);"
   ]
  },
  {
   "cell_type": "code",
   "execution_count": 4,
   "metadata": {},
   "outputs": [],
   "source": [
    "def get_fls(Bnd, Tnb):\n",
    "    fls = []\n",
    "    # Tracers list\n",
    "    for i in range(1,Tnb+1):\n",
    "        fls.append(f\"OB{Bnd}tr{i}_Mac_46x68.bin\")\n",
    "    # T & S list\n",
    "    for p in ['s','t']:\n",
    "        fls.append(f\"OB{Bnd}{p}_Mac_46x68.bin\")\n",
    "        fls.append(f\"OB{Bnd}{p}_Mac_46x68.stable\")\n",
    "    # u & v list\n",
    "    for p in ['u','v']:\n",
    "        if (Bnd == 'W') & (p == 'u'):\n",
    "            fls.append(f\"OB{Bnd}{p}_Mac_46x68.balance\")\n",
    "        else:\n",
    "            fls.append(f\"OB{Bnd}{p}_Mac_46x68.bin\")\n",
    "    return(fls)"
   ]
  },
  {
   "cell_type": "code",
   "execution_count": 5,
   "metadata": {},
   "outputs": [],
   "source": [
    "def Add_lyrs(fnm, Bnd):\n",
    "    # Create parameter to repeat first layer\n",
    "    r = np.ones(nZ)\n",
    "    r[0] = 3\n",
    "    # Chose the good size\n",
    "    if Bnd == 'W':\n",
    "        nX = nXw\n",
    "    elif Bnd == 'S':\n",
    "        nX = nXs\n",
    "    # Duplicate the 1st layer \n",
    "    fld = read_bin(In_pth+fnm, (nt,nZ,nX))\n",
    "    fld_ext = np.repeat(fld, list(r), axis=1)\n",
    "    return fld_ext"
   ]
  },
  {
   "cell_type": "markdown",
   "metadata": {},
   "source": [
    "## II. Set paths"
   ]
  },
  {
   "cell_type": "code",
   "execution_count": 6,
   "metadata": {},
   "outputs": [
    {
     "name": "stdout",
     "output_type": "stream",
     "text": [
      "Reading data on Itsasorantz\n"
     ]
    }
   ],
   "source": [
    "# Set parameters\n",
    "HDlist = os.listdir('/Volumes') \n",
    "HDsel = np.nan\n",
    "HD = [\"Proteus\",\"Itsasorantz\"]\n",
    "# HD Selection\n",
    "while not (HDsel==1 or HDsel==2):\n",
    "    # While loop Intilization\n",
    "    if not np.isnan(HDsel):\n",
    "        print(\"Wrong choice ! Type 1 or 2\")\n",
    "    # Test Both HD pluged in case    \n",
    "    if HD[0] in HDlist and HD[1] in HDlist:\n",
    "        HDsel = int(input(\"Do you want to read data on (1) Proteus or (2) Itsasorantz ?\"))\n",
    "    # Selection for 1 HD pluged in\n",
    "    elif HD[0] in HDlist:\n",
    "        HDsel = 1\n",
    "    elif HD[1] in HDlist:\n",
    "        HDsel = 2\n",
    "print(f\"Reading data on {HD[HDsel-1]}\")"
   ]
  },
  {
   "cell_type": "code",
   "execution_count": 7,
   "metadata": {},
   "outputs": [],
   "source": [
    "HDpath = f\"/Volumes/{HD[HDsel-1]}/\"\n",
    "In_pth = HDpath+\"Modelling/Forcing/run_template/Mac270_Carroll/32_Tracers_Nr44/\"\n",
    "Out_pth = HDpath+\"Modelling/Forcing/run_template/Mac270_Carroll/32_Tracers_Nr46/\""
   ]
  },
  {
   "cell_type": "markdown",
   "metadata": {},
   "source": [
    "## III. Change Bondounary files"
   ]
  },
  {
   "cell_type": "markdown",
   "metadata": {},
   "source": [
    "### a. Set parameters"
   ]
  },
  {
   "cell_type": "code",
   "execution_count": 9,
   "metadata": {},
   "outputs": [],
   "source": [
    "## Time\n",
    "nt = 12*29+1\n",
    "## Depth\n",
    "nZ = 44\n",
    "## Width\n",
    "nXw = 68\n",
    "nXs = 46\n",
    "## Tracers nb\n",
    "Tn = 32"
   ]
  },
  {
   "cell_type": "markdown",
   "metadata": {},
   "source": [
    "### b. Do you to save ?"
   ]
  },
  {
   "cell_type": "code",
   "execution_count": 13,
   "metadata": {},
   "outputs": [
    {
     "name": "stdout",
     "output_type": "stream",
     "text": [
      "Do you want to save the New Open Boundary files created ? ('y' or 'n')\n",
      "y\n",
      "Saving procedure allowed\n"
     ]
    }
   ],
   "source": [
    "svc = input(\"Do you want to save the New Open Boundary files created ? ('y' or 'n')\\n\")\n",
    "if svc == 'y':\n",
    "    print(\"Saving procedure allowed\")\n",
    "elif svc == 'n':\n",
    "    print(\"Warning: files will not be saved\")"
   ]
  },
  {
   "cell_type": "markdown",
   "metadata": {},
   "source": [
    "### c. Extend the 1$^{st}$ layer and save"
   ]
  },
  {
   "cell_type": "code",
   "execution_count": 10,
   "metadata": {},
   "outputs": [
    {
     "name": "stdout",
     "output_type": "stream",
     "text": [
      "W\n",
      "S\n"
     ]
    }
   ],
   "source": [
    "#if svc == 'y':\n",
    "#    for Bnd in ['W','S']:\n",
    "#        print(Bnd)\n",
    "#        fls = get_fls(Bnd, Tn)\n",
    "#        for fn in fls:\n",
    "#            fld_ext = Add_lyrs(fn, Bnd)\n",
    "#            bin_save(Out_pth+fn, fld_ext)"
   ]
  },
  {
   "cell_type": "code",
   "execution_count": 16,
   "metadata": {},
   "outputs": [],
   "source": [
    "#HDpath = f\"/Volumes/{HD[HDsel-1]}/\"\n",
    "#In_pth = HDpath+\"Modelling/Forcing/run_template/Mac270_Carroll/32_Tracers_Nr44/eta_adjust/\"\n",
    "#Out_pth = HDpath+\"Modelling/Forcing/run_template/Mac270_Carroll/32_Tracers_Nr46/eta_adjust/\"\n",
    "#fls = os.listdir(In_pth)[1:]\n",
    "#if svc == 'y':\n",
    "#    for fn in fls:\n",
    "#        fld_ext = Add_lyrs(fn, \"W\")\n",
    "#        bin_save(Out_pth+fn, fld_ext)"
   ]
  },
  {
   "cell_type": "code",
   "execution_count": null,
   "metadata": {},
   "outputs": [],
   "source": []
  }
 ],
 "metadata": {
  "kernelspec": {
   "display_name": "Python 3 (ipykernel)",
   "language": "python",
   "name": "python3"
  },
  "language_info": {
   "codemirror_mode": {
    "name": "ipython",
    "version": 3
   },
   "file_extension": ".py",
   "mimetype": "text/x-python",
   "name": "python",
   "nbconvert_exporter": "python",
   "pygments_lexer": "ipython3",
   "version": "3.11.5"
  }
 },
 "nbformat": 4,
 "nbformat_minor": 4
}
