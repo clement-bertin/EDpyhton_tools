{
 "cells": [
  {
   "cell_type": "markdown",
   "metadata": {},
   "source": [
    "# Genearate Arctic Ocean Ecosystem initial conditions"
   ]
  },
  {
   "cell_type": "code",
   "execution_count": 1,
   "metadata": {},
   "outputs": [],
   "source": [
    "import os\n",
    "import numpy as np\n",
    "import xarray as xr\n",
    "from MITgcmutils import mds"
   ]
  },
  {
   "cell_type": "markdown",
   "metadata": {},
   "source": [
    "### I. Set the reading and writing path"
   ]
  },
  {
   "cell_type": "code",
   "execution_count": 2,
   "metadata": {},
   "outputs": [
    {
     "name": "stdout",
     "output_type": "stream",
     "text": [
      "Reading data on Proteus\n"
     ]
    }
   ],
   "source": [
    "# Set parameters\n",
    "HDlist = os.listdir('/Volumes') \n",
    "HDsel = np.nan\n",
    "HD = [\"Proteus\",\"Itsasorantz\"]\n",
    "# HD Selection\n",
    "while not (HDsel==1 or HDsel==2):\n",
    "    # While loop Intilization\n",
    "    if not np.isnan(HDsel):\n",
    "        print(\"Wrong choice ! Type 1 or 2\")\n",
    "    # Test Both HD pluged in case    \n",
    "    if HD[0] in HDlist and HD[1] in HDlist:\n",
    "        HDsel = int(input(\"Do you want to read data on (1) Proteus or (2) Itsasorantz ?\"))\n",
    "    # Selection for 1 HD pluged in\n",
    "    elif HD[0] in HDlist:\n",
    "        HDsel = 1\n",
    "    elif HD[1] in HDlist:\n",
    "        HDsel = 2\n",
    "print(f\"Reading data on {HD[HDsel-1]}\")"
   ]
  },
  {
   "cell_type": "code",
   "execution_count": 3,
   "metadata": {
    "scrolled": true
   },
   "outputs": [],
   "source": [
    "HDpath = f\"/Volumes/{HD[HDsel-1]}/\"\n",
    "In_pth = HDpath+\"Modelling/Forcing/Run_template/Mac270_Carroll/Base/G46x68/\"\n",
    "tDOC_pth = HDpath+\"Data/ECCO-darwin/mac270_simu/Biogeochem/Carroll_Ecosytem/tDOC_spinup/\"\n",
    "grd_pth = HDpath+\"Modelling/Forcing/mac270_grid/G46x68/\"\n",
    "Out_pth = HDpath+\"Modelling/Forcing/Run_template/Mac270_Carroll/AllPhytoON_tDOC_pool/\""
   ]
  },
  {
   "cell_type": "markdown",
   "metadata": {},
   "source": [
    "## II. Read original pickup files"
   ]
  },
  {
   "cell_type": "code",
   "execution_count": 4,
   "metadata": {
    "scrolled": true
   },
   "outputs": [],
   "source": [
    "it = 1 #289296\n",
    "In_pickup, _, In_meta = mds.rdmds(In_pth+'pickup_ptracers', itrs=it, returnmeta=True)\n",
    "Out_pickup = In_pickup.copy()"
   ]
  },
  {
   "cell_type": "markdown",
   "metadata": {},
   "source": [
    "###### Tracers list"
   ]
  },
  {
   "cell_type": "code",
   "execution_count": 5,
   "metadata": {},
   "outputs": [],
   "source": [
    "# Initial Tracers list\n",
    "InitTr_ls = ['DIC','NO3','NO2','NH4','PO4','Fet','SiO2','DOC','DON','DOP','DOFe','POC','PON','POP','POFe',\n",
    "             'POSi','PIC','ALK','O2','c1','c2','c3','c4','c5','c6','c7','chl1','chl2','chl3','chl4','chl5']\n",
    "# Final Tracers list\n",
    "FinaTr_ls = ['DIC','NO3','NO2','NH4','PO4','Fet','SiO2','DOC','tDOC','DON','DOP','DOFe','POC','PON','POP','POFe',\n",
    "             'POSi','PIC','ALK','O2','c1','c2','c3','c4','c5','c6','c7','chl1','chl2','chl3','chl4','chl5']"
   ]
  },
  {
   "cell_type": "markdown",
   "metadata": {},
   "source": [
    "## III. Add tDOC initial matrix"
   ]
  },
  {
   "cell_type": "code",
   "execution_count": 6,
   "metadata": {},
   "outputs": [],
   "source": [
    "tDOC = mds.rdmds(tDOC_pth+'Run_tDOCimp_iter2/diags/tDOC', itrs=682488)\n",
    "tDOC[np.where(Out_pickup[0]==0)] = 0\n",
    "Out_pickup = np.insert(Out_pickup, InitTr_ls.index('DOC')+1, tDOC, axis=0)"
   ]
  },
  {
   "cell_type": "markdown",
   "metadata": {},
   "source": [
    "## IV. Save pickup file"
   ]
  },
  {
   "cell_type": "markdown",
   "metadata": {},
   "source": [
    "### a. Prepare parmaters "
   ]
  },
  {
   "cell_type": "code",
   "execution_count": 7,
   "metadata": {},
   "outputs": [],
   "source": [
    "# Number of tracers to set in new pickup file\n",
    "n_trc = len(Out_pickup)\n",
    "# Tracer list\n",
    "Tr_ls = ['pTr%.2i'%(i+1) for i in range(n_trc)]"
   ]
  },
  {
   "cell_type": "code",
   "execution_count": 8,
   "metadata": {},
   "outputs": [
    {
     "name": "stdout",
     "output_type": "stream",
     "text": [
      "Do you want to save the New Pickup file created ? ('y' or 'n')\n",
      "y\n",
      "Saving proceed\n"
     ]
    }
   ],
   "source": [
    "svc = input(\"Do you want to save the New Pickup file created ? ('y' or 'n')\\n\")\n",
    "if svc == 'y':\n",
    "    mds.wrmds(Out_pth+'pickup_ptracers',Out_pickup, itr=In_meta['timestepnumber'][0], dataprec='float64', ndims=3,\n",
    "              nrecords=n_trc, fields=Tr_ls, deltat=1200, dimlist=[46, 68, 44])\n",
    "    print(\"Saving proceed\")\n",
    "elif svc == 'n':\n",
    "    print(\"Warning: files not saved\")"
   ]
  },
  {
   "cell_type": "code",
   "execution_count": null,
   "metadata": {},
   "outputs": [],
   "source": []
  }
 ],
 "metadata": {
  "kernelspec": {
   "display_name": "Python 3 (ipykernel)",
   "language": "python",
   "name": "python3"
  },
  "language_info": {
   "codemirror_mode": {
    "name": "ipython",
    "version": 3
   },
   "file_extension": ".py",
   "mimetype": "text/x-python",
   "name": "python",
   "nbconvert_exporter": "python",
   "pygments_lexer": "ipython3",
   "version": "3.11.5"
  }
 },
 "nbformat": 4,
 "nbformat_minor": 4
}
