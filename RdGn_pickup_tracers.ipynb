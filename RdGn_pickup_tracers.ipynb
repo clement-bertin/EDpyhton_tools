{
 "cells": [
  {
   "cell_type": "markdown",
   "metadata": {},
   "source": [
    "# Genearate Arctic Ocean Ecosystem initial conditions"
   ]
  },
  {
   "cell_type": "code",
   "execution_count": 1,
   "metadata": {},
   "outputs": [],
   "source": [
    "import os\n",
    "import numpy as np\n",
    "import xarray as xr\n",
    "from MITgcmutils import mds"
   ]
  },
  {
   "cell_type": "markdown",
   "metadata": {},
   "source": [
    "## I. Set the reading and writing path"
   ]
  },
  {
   "cell_type": "code",
   "execution_count": null,
   "metadata": {},
   "outputs": [],
   "source": [
    "in_path = \"Path/to/pickup_tracer_file_toread\"\n",
    "grd_pth = \"Path/to/grid_files\"\n",
    "out_pth = \"Path/to/pickup_tracer_file_togenerate\""
   ]
  },
  {
   "cell_type": "markdown",
   "metadata": {},
   "source": [
    "## II. Read original pickup files"
   ]
  },
  {
   "cell_type": "code",
   "execution_count": 4,
   "metadata": {
    "scrolled": true
   },
   "outputs": [],
   "source": [
    "it = 1 #iterqtion number of the pickup file\n",
    "In_pickup, _, In_meta = mds.rdmds(in_pth+'pickup_ptracers', itrs=it, returnmeta=True)\n",
    "Out_pickup = In_pickup.copy()"
   ]
  },
  {
   "cell_type": "markdown",
   "metadata": {},
   "source": [
    "###### Tracers list"
   ]
  },
  {
   "cell_type": "code",
   "execution_count": 5,
   "metadata": {},
   "outputs": [],
   "source": [
    "# Initial Tracers list\n",
    "InitTr_ls = ['DIC','NO3','NO2','NH4','PO4','Fet','SiO2','DOC','DON','DOP','DOFe','POC','PON','POP','POFe',\n",
    "             'POSi','PIC','ALK','O2','c1','c2','c3','c4','c5','c6','c7','chl1','chl2','chl3','chl4','chl5']\n",
    "# Final Tracers list\n",
    "FinaTr_ls = ['DIC','NO3','NO2','NH4','PO4','Fet','SiO2','DOC','DON','DOP','DOFe','POC','PON','POP','POFe',\n",
    "             'POSi','PIC','ALK','O2','c1','c2','c3','c4','c5','c6','c7','chl1','chl2','chl3','chl4','chl5',\n",
    "             'Newvar']"
   ]
  },
  {
   "cell_type": "markdown",
   "metadata": {},
   "source": [
    "## III. Add new variable pickup matrix"
   ]
  },
  {
   "cell_type": "code",
   "execution_count": 6,
   "metadata": {},
   "outputs": [],
   "source": [
    "nwvar = #Generate the new matrix\n",
    "out_pickup = np.insert(out_pickup, FinaTr_ls.index('Newvar'), nwvar, axis=0)"
   ]
  },
  {
   "cell_type": "markdown",
   "metadata": {},
   "source": [
    "## IV. Save pickup file"
   ]
  },
  {
   "cell_type": "code",
   "execution_count": 7,
   "metadata": {},
   "outputs": [],
   "source": [
    "# Number of tracers to set in new pickup file\n",
    "n_trc = len(out_pickup)\n",
    "# Tracer list\n",
    "Tr_ls = ['pTr%.2i'%(i+1) for i in range(n_trc)]"
   ]
  },
  {
   "cell_type": "code",
   "execution_count": 8,
   "metadata": {},
   "outputs": [
    {
     "name": "stdout",
     "output_type": "stream",
     "text": [
      "Do you want to save the New Pickup file created ? ('y' or 'n')\n",
      "y\n",
      "Saving proceed\n"
     ]
    }
   ],
   "source": [
    "svc = input(\"Do you want to save the New Pickup file created ? ('y' or 'n')\\n\")\n",
    "if svc == 'y':\n",
    "    mds.wrmds(out_pth+'pickup_ptracers', out_pickup, itr=In_meta['timestepnumber'][0],\n",
    "              dataprec='float64', ndims=3, nrecords=n_trc, fields=Tr_ls, deltat=dt, dimlist=[Z, X, Y])\n",
    "    print(\"Saving proceed\")\n",
    "elif svc == 'n':\n",
    "    print(\"Warning: files not saved\")"
   ]
  },
  {
   "cell_type": "code",
   "execution_count": null,
   "metadata": {},
   "outputs": [],
   "source": []
  }
 ],
 "metadata": {
  "kernelspec": {
   "display_name": "Python 3 (ipykernel)",
   "language": "python",
   "name": "python3"
  },
  "language_info": {
   "codemirror_mode": {
    "name": "ipython",
    "version": 3
   },
   "file_extension": ".py",
   "mimetype": "text/x-python",
   "name": "python",
   "nbconvert_exporter": "python",
   "pygments_lexer": "ipython3",
   "version": "3.11.5"
  }
 },
 "nbformat": 4,
 "nbformat_minor": 4
}
